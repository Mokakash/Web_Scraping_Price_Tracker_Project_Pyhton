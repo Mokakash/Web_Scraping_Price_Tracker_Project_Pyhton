{
 "cells": [
  {
   "cell_type": "markdown",
   "id": "651b3c05-7282-4b44-a22e-fc9b21cec0c2",
   "metadata": {},
   "source": [
    "### Import the Necessary Libraries"
   ]
  },
  {
   "cell_type": "code",
   "execution_count": 1,
   "id": "691d7bb1-0924-439f-aa08-a02f3ea13907",
   "metadata": {},
   "outputs": [],
   "source": [
    "import requests\n",
    "from bs4 import BeautifulSoup as bs\n",
    "import smtplib\n",
    "import ssl"
   ]
  },
  {
   "cell_type": "markdown",
   "id": "ae517271-4ed6-47e2-b1b4-6158c38ee040",
   "metadata": {},
   "source": [
    "### Define the URL and Create the User Agent Info"
   ]
  },
  {
   "cell_type": "code",
   "execution_count": 2,
   "id": "826bd2d0-626b-4852-b378-01e67955f20f",
   "metadata": {},
   "outputs": [],
   "source": [
    "# This is the URL for the Apple Watch on Amazon.com that I intend to monitor for its price changes.\n",
    "URL = 'https://www.amazon.com/Apple-Cellular-Smartwatch-Precision-Extra-Long/dp/B0CHX7C4CL/ref=sr_1_5?crid=38JYNSLCGRVPU&keywords=apple%2Bwatch&qid=1704051072&sprefix=apple%2Bwatch%2Caps%2C116&sr=8-5&ufe=app_do%3Aamzn1.fos.ac2169a1-b668-44b9-8bd0-5ec63b24bcb5&th=1'\n",
    "\n",
    "# Input your User Agent to emulate authentic user behavior on the Amazon website, preventing server identification as a BOT.\n",
    "header = {\n",
    "    'User-Agent': 'Mozilla/5.0 (Macintosh; Intel Mac OS X 10_15_7) AppleWebKit/537.36 (KHTML, like Gecko) Chrome/120.0.0.0 Safari/537.36'}"
   ]
  },
  {
   "cell_type": "markdown",
   "id": "a3a58915-2c5e-4796-9ca8-1a16eb24e9dc",
   "metadata": {},
   "source": [
    "### Create the Price Extractor Function"
   ]
  },
  {
   "cell_type": "code",
   "execution_count": 33,
   "id": "a20275b1-f107-48d0-ad12-d4be0a1052c8",
   "metadata": {},
   "outputs": [],
   "source": [
    "def extract_price():\n",
    "    page = requests.get(URL, headers=header)\n",
    "    soup = bs(page.content, 'html.parser')\n",
    "    price = float(soup.find('span', id=\"a-price-whole\").text.split()[0].replace(',',\"\"))\n",
    "    return price\n",
    "\n",
    "# This function retrieves a webpage, parses its HTML using BeautifulSoup,\n",
    "# locates the price within a span element by its ID (find ID by inspecting the product page on the Amazon website),\n",
    "# cleans the extracted text by removing commas, converts it to a float, and\n",
    "# returns the price."
   ]
  },
  {
   "cell_type": "markdown",
   "id": "007f22b5-59f9-49d7-8626-5a81c024b0ad",
   "metadata": {},
   "source": [
    "### Create the Email Notifier Function"
   ]
  },
  {
   "cell_type": "code",
   "execution_count": 41,
   "id": "5b3de146-7533-41ea-b8a5-19712dc1f422",
   "metadata": {},
   "outputs": [],
   "source": [
    "def send_email():\n",
    "    port = 465\n",
    "    smtp_server = \"smtp.gmail.com\"\n",
    "    sender_email = \"kashinejad85@gmail.com\"\n",
    "    receiver_email = \"kashinejad85@gmail.com\"\n",
    "    password = 'xxxxxxxxxxxxxxxx'\n",
    "    subject = 'Price Dropped for Apple Watch Ultra 2!!!'\n",
    "    message = f\"\"\"\n",
    "    The Apple Watch Ultra 2 price has dropped below $779 - check the Amazon link!\n",
    "    Link = {URL}\n",
    "               \"\"\"\n",
    "\n",
    "# The send_email() function is to facilitate the automated sending of an email notification prompting the recipient\n",
    "# to check the Amazon URL provided in the email for the price change.\n",
    "# Note: enter your email address and your APP Password. "
   ]
  },
  {
   "cell_type": "code",
   "execution_count": null,
   "id": "1a309928-a0ae-458d-8f82-4023b611e3cc",
   "metadata": {},
   "outputs": [],
   "source": [
    "em = EmailMessage()\n",
    "em['From'] = sender_email\n",
    "em['To'] = receiver_email\n",
    "em['Subject'] = subject\n",
    "em.set_content(message)\n",
    "context = ssl.create_default_context()\n",
    "with stmplib.SMTP_SSL(smtp_server, port, context=context) as server:\n",
    "    server.login(sender_email, password)\n",
    "    server.sendmail(sender_email, receiver_email, em.as_string())\n",
    "    print(\"Message Sent\")\n",
    "\n",
    "# Leveraging Gmail's SMTP server, I used the 'EmailMessage' class from the Email Library to \n",
    "# configure the email content, establish a secure connection, and dispatch the email with sender authentication. "
   ]
  },
  {
   "cell_type": "markdown",
   "id": "2e08325f-c4e0-472d-843c-934033eb4905",
   "metadata": {},
   "source": [
    "### Create Criteria and the Driver Code"
   ]
  },
  {
   "cell_type": "code",
   "execution_count": null,
   "id": "45c70894-8a89-4176-b867-62e4fe38fd5d",
   "metadata": {},
   "outputs": [],
   "source": [
    "# Crating price criteria and the code to execute the code\n",
    "# If the extracted price is less than the threshold price (my_price), then call the \"send_email\" function which will send an email to the recipient.\n",
    "\n",
    "my_price = 799\n",
    "if extract_price() < my_price:\n",
    "    send_email()"
   ]
  }
 ],
 "metadata": {
  "kernelspec": {
   "display_name": "Python 3 (ipykernel)",
   "language": "python",
   "name": "python3"
  },
  "language_info": {
   "codemirror_mode": {
    "name": "ipython",
    "version": 3
   },
   "file_extension": ".py",
   "mimetype": "text/x-python",
   "name": "python",
   "nbconvert_exporter": "python",
   "pygments_lexer": "ipython3",
   "version": "3.11.5"
  }
 },
 "nbformat": 4,
 "nbformat_minor": 5
}
